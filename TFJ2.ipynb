{
 "cells": [
  {
   "cell_type": "code",
   "execution_count": null,
   "id": "dde79e11",
   "metadata": {},
   "outputs": [],
   "source": [
    "Hello I am editing this file!\n",
    "i HAVE EDITITED IT AGAIN"
   ]
  },
  {
   "cell_type": "code",
   "execution_count": 2,
   "id": "2814b1fd",
   "metadata": {},
   "outputs": [],
   "source": [
    "import os"
   ]
  },
  {
   "cell_type": "code",
   "execution_count": 3,
   "id": "ac39889c",
   "metadata": {},
   "outputs": [
    {
     "data": {
      "text/plain": [
       "'C:\\\\Users\\\\Lauren Dunn'"
      ]
     },
     "execution_count": 3,
     "metadata": {},
     "output_type": "execute_result"
    }
   ],
   "source": [
    "os.getcwd()"
   ]
  },
  {
   "cell_type": "code",
   "execution_count": 8,
   "id": "1d355209",
   "metadata": {},
   "outputs": [],
   "source": [
    "os.chdir('\\\\Users\\\\Lauren Dunn\\\\JuptyerWorkflow')"
   ]
  },
  {
   "cell_type": "code",
   "execution_count": 10,
   "id": "938c8bf6",
   "metadata": {},
   "outputs": [
    {
     "data": {
      "text/plain": [
       "'C:\\\\Users\\\\Lauren Dunn\\\\JuptyerWorkflow'"
      ]
     },
     "execution_count": 10,
     "metadata": {},
     "output_type": "execute_result"
    }
   ],
   "source": [
    "os.getcwd()"
   ]
  },
  {
   "cell_type": "code",
   "execution_count": null,
   "id": "554011f3",
   "metadata": {},
   "outputs": [],
   "source": []
  },
  {
   "cell_type": "code",
   "execution_count": null,
   "id": "c91f51a0",
   "metadata": {},
   "outputs": [],
   "source": [
    "Hello this is a random change"
   ]
  },
  {
   "cell_type": "code",
   "execution_count": null,
   "id": "ee6ca69a",
   "metadata": {},
   "outputs": [],
   "source": [
    "Another change :P"
   ]
  },
  {
   "cell_type": "code",
   "execution_count": null,
   "id": "a2342bd4",
   "metadata": {},
   "outputs": [],
   "source": [
    "Adam helped me! The second change "
   ]
  }
 ],
 "metadata": {
  "kernelspec": {
   "display_name": "Python 3",
   "language": "python",
   "name": "python3"
  },
  "language_info": {
   "codemirror_mode": {
    "name": "ipython",
    "version": 3
   },
   "file_extension": ".py",
   "mimetype": "text/x-python",
   "name": "python",
   "nbconvert_exporter": "python",
   "pygments_lexer": "ipython3",
   "version": "3.8.8"
  }
 },
 "nbformat": 4,
 "nbformat_minor": 5
}
