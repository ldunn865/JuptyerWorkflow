{
 "cells": [
  {
   "cell_type": "code",
   "execution_count": null,
   "id": "86fb47ff",
   "metadata": {},
   "outputs": [],
   "source": [
    "Hello I am editing this file!\n",
    "i HAVE EDITITED IT AGAIN"
   ]
  },
  {
   "cell_type": "code",
   "execution_count": 2,
   "id": "0beab361",
   "metadata": {},
   "outputs": [],
   "source": [
    "import os"
   ]
  },
  {
   "cell_type": "code",
   "execution_count": 3,
   "id": "a84efe06",
   "metadata": {},
   "outputs": [
    {
     "data": {
      "text/plain": [
       "'C:\\\\Users\\\\Lauren Dunn'"
      ]
     },
     "execution_count": 3,
     "metadata": {},
     "output_type": "execute_result"
    }
   ],
   "source": [
    "os.getcwd()"
   ]
  },
  {
   "cell_type": "code",
   "execution_count": 8,
   "id": "9285ad91",
   "metadata": {},
   "outputs": [],
   "source": [
    "os.chdir('\\\\Users\\\\Lauren Dunn\\\\JuptyerWorkflow')"
   ]
  },
  {
   "cell_type": "code",
   "execution_count": 10,
   "id": "cf591d3f",
   "metadata": {},
   "outputs": [
    {
     "data": {
      "text/plain": [
       "'C:\\\\Users\\\\Lauren Dunn\\\\JuptyerWorkflow'"
      ]
     },
     "execution_count": 10,
     "metadata": {},
     "output_type": "execute_result"
    }
   ],
   "source": [
    "os.getcwd()"
   ]
  },
  {
   "cell_type": "code",
   "execution_count": null,
   "id": "41b3aee2",
   "metadata": {},
   "outputs": [],
   "source": []
  },
  {
   "cell_type": "code",
   "execution_count": null,
   "id": "65aba78f",
   "metadata": {},
   "outputs": [],
   "source": [
    "Hello this is a random change"
   ]
  },
  {
   "cell_type": "code",
   "execution_count": null,
   "id": "7d7aae68",
   "metadata": {},
   "outputs": [],
   "source": [
    "Another change :P"
   ]
  },
  {
   "cell_type": "code",
   "execution_count": null,
   "id": "be710e04",
   "metadata": {},
   "outputs": [],
   "source": []
  }
 ],
 "metadata": {
  "kernelspec": {
   "display_name": "Python 3",
   "language": "python",
   "name": "python3"
  },
  "language_info": {
   "codemirror_mode": {
    "name": "ipython",
    "version": 3
   },
   "file_extension": ".py",
   "mimetype": "text/x-python",
   "name": "python",
   "nbconvert_exporter": "python",
   "pygments_lexer": "ipython3",
   "version": "3.8.8"
  }
 },
 "nbformat": 4,
 "nbformat_minor": 5
}
