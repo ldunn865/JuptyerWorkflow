{
 "cells": [
  {
   "cell_type": "code",
   "execution_count": null,
   "id": "a1649da7",
   "metadata": {},
   "outputs": [],
   "source": [
    "Hello I am editing this file!\n",
    "i HAVE EDITITED IT AGAIN"
   ]
  },
  {
   "cell_type": "code",
   "execution_count": 2,
   "id": "51da7042",
   "metadata": {},
   "outputs": [],
   "source": [
    "import os"
   ]
  },
  {
   "cell_type": "code",
   "execution_count": 3,
   "id": "8b0489df",
   "metadata": {},
   "outputs": [
    {
     "data": {
      "text/plain": [
       "'C:\\\\Users\\\\Lauren Dunn'"
      ]
     },
     "execution_count": 3,
     "metadata": {},
     "output_type": "execute_result"
    }
   ],
   "source": [
    "os.getcwd()"
   ]
  },
  {
   "cell_type": "code",
   "execution_count": 8,
   "id": "ceb9fa4b",
   "metadata": {},
   "outputs": [],
   "source": [
    "os.chdir('\\\\Users\\\\Lauren Dunn\\\\JuptyerWorkflow')"
   ]
  },
  {
   "cell_type": "code",
   "execution_count": 10,
   "id": "29370450",
   "metadata": {},
   "outputs": [
    {
     "data": {
      "text/plain": [
       "'C:\\\\Users\\\\Lauren Dunn\\\\JuptyerWorkflow'"
      ]
     },
     "execution_count": 10,
     "metadata": {},
     "output_type": "execute_result"
    }
   ],
   "source": [
    "os.getcwd()"
   ]
  },
  {
   "cell_type": "code",
   "execution_count": null,
   "id": "a0c09776",
   "metadata": {},
   "outputs": [],
   "source": []
  },
  {
   "cell_type": "code",
   "execution_count": null,
   "id": "0f3e50d7",
   "metadata": {},
   "outputs": [],
   "source": [
    "Hello this is a random change"
   ]
  },
  {
   "cell_type": "code",
   "execution_count": null,
   "id": "812f3b94",
   "metadata": {},
   "outputs": [],
   "source": []
  },
  {
   "cell_type": "code",
   "execution_count": null,
   "id": "d214b89c",
   "metadata": {},
   "outputs": [],
   "source": []
  }
 ],
 "metadata": {
  "kernelspec": {
   "display_name": "Python 3",
   "language": "python",
   "name": "python3"
  },
  "language_info": {
   "codemirror_mode": {
    "name": "ipython",
    "version": 3
   },
   "file_extension": ".py",
   "mimetype": "text/x-python",
   "name": "python",
   "nbconvert_exporter": "python",
   "pygments_lexer": "ipython3",
   "version": "3.8.8"
  }
 },
 "nbformat": 4,
 "nbformat_minor": 5
}
